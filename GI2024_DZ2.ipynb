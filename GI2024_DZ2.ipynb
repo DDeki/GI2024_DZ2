{
 "cells": [
  {
   "cell_type": "code",
   "execution_count": 1,
   "metadata": {},
   "outputs": [
    {
     "name": "stdout",
     "output_type": "stream",
     "text": [
      "C0HVYACXX120402:7:1207:5722:57044\t1187\t#20\t9483249\t27\t76M\t#20\t9483382\t209\tTTTTCAAACAGTATCTATGCCTGCCAAATGTGAACATATAAAAAAAAACCAGAATGTGCCATTCTGATTTAAACTG\tarray('B', [28, 28, 27, 29, 31, 30, 31, 31, 29, 31, 35, 30, 29, 31, 34, 30, 29, 23, 41, 32, 20, 30, 29, 34, 34, 29, 30, 31, 30, 30, 30, 33, 33, 26, 39, 12, 25, 19, 32, 30, 35, 28, 35, 33, 23, 33, 35, 36, 30, 38, 33, 41, 34, 35, 31, 33, 23, 30, 30, 36, 27, 32, 29, 34, 35, 41, 33, 31, 33, 29, 32, 32, 31, 31, 31, 34])\t[('XA', 'GL000217.1,-110754,76M,1;'), ('BD', 'NNNNNNNNNNNNNNNNNNNNNNNNNNNNNNNNNNNNNNNNNNNNNNNNNNNNNNNNNNNNNNNNNNNNNNNNNNNN'), ('MD', '76'), ('RG', '1'), ('BI', 'NNNNNNNNNNNNNNNNNNNNNNNNNNNNNNNNNNNNNNNNNNNNNNNNNNNNNNNNNNNNNNNNNNNNNNNNNNNN'), ('NM', 0), ('MQ', 27), ('AS', 76), ('XS', 71)]\n"
     ]
    }
   ],
   "source": [
    "import pysam\n",
    "\n",
    "bam_file_path = 'merged-tumor.bam'\n",
    "\n",
    "alignment_file = pysam.AlignmentFile(bam_file_path, \"rb\")\n",
    "first_read = next(alignment_file)\n",
    "print(first_read)"
   ]
  },
  {
   "cell_type": "code",
   "execution_count": 2,
   "metadata": {},
   "outputs": [
    {
     "name": "stdout",
     "output_type": "stream",
     "text": [
      "Query Name: C0HVYACXX120402:7:1207:5722:57044\n",
      "Flag: 1187\n",
      "Reference ID: 20\n",
      "Reference Start: 9483248\n",
      "Mapping Quality: 27\n",
      "CIGAR string: 76M\n"
     ]
    }
   ],
   "source": [
    "# Inspect fields in the AlignedSegment\n",
    "print(f\"Query Name: {first_read.query_name}\")\n",
    "print(f\"Flag: {first_read.flag}\")\n",
    "print(f\"Reference ID: {first_read.reference_id}\")\n",
    "print(f\"Reference Start: {first_read.reference_start}\")\n",
    "print(f\"Mapping Quality: {first_read.mapping_quality}\")\n",
    "print(f\"CIGAR string: {first_read.cigarstring}\")\n",
    "\n",
    "# Close the BAM file\n",
    "alignment_file.close()"
   ]
  }
 ],
 "metadata": {
  "kernelspec": {
   "display_name": ".venv",
   "language": "python",
   "name": "python3"
  },
  "language_info": {
   "codemirror_mode": {
    "name": "ipython",
    "version": 3
   },
   "file_extension": ".py",
   "mimetype": "text/x-python",
   "name": "python",
   "nbconvert_exporter": "python",
   "pygments_lexer": "ipython3",
   "version": "3.11.5"
  }
 },
 "nbformat": 4,
 "nbformat_minor": 2
}
