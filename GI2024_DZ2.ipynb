{
 "cells": [
  {
   "cell_type": "code",
   "execution_count": 1,
   "metadata": {},
   "outputs": [
    {
     "name": "stdout",
     "output_type": "stream",
     "text": [
      "C0HVYACXX120402:7:1207:5722:57044\t1187\t#20\t9483249\t27\t76M\t#20\t9483382\t209\tTTTTCAAACAGTATCTATGCCTGCCAAATGTGAACATATAAAAAAAAACCAGAATGTGCCATTCTGATTTAAACTG\tarray('B', [28, 28, 27, 29, 31, 30, 31, 31, 29, 31, 35, 30, 29, 31, 34, 30, 29, 23, 41, 32, 20, 30, 29, 34, 34, 29, 30, 31, 30, 30, 30, 33, 33, 26, 39, 12, 25, 19, 32, 30, 35, 28, 35, 33, 23, 33, 35, 36, 30, 38, 33, 41, 34, 35, 31, 33, 23, 30, 30, 36, 27, 32, 29, 34, 35, 41, 33, 31, 33, 29, 32, 32, 31, 31, 31, 34])\t[('XA', 'GL000217.1,-110754,76M,1;'), ('BD', 'NNNNNNNNNNNNNNNNNNNNNNNNNNNNNNNNNNNNNNNNNNNNNNNNNNNNNNNNNNNNNNNNNNNNNNNNNNNN'), ('MD', '76'), ('RG', '1'), ('BI', 'NNNNNNNNNNNNNNNNNNNNNNNNNNNNNNNNNNNNNNNNNNNNNNNNNNNNNNNNNNNNNNNNNNNNNNNNNNNN'), ('NM', 0), ('MQ', 27), ('AS', 76), ('XS', 71)]\n"
     ]
    }
   ],
   "source": [
    "import pysam\n",
    "\n",
    "bam_file_path = 'merged-tumor.bam'\n",
    "\n",
    "#Open BAM file and take the first read\n",
    "alignment_file = pysam.AlignmentFile(bam_file_path, \"rb\")\n",
    "first_read = next(alignment_file)\n",
    "print(first_read)"
   ]
  },
  {
   "cell_type": "code",
   "execution_count": 2,
   "metadata": {},
   "outputs": [],
   "source": [
    "# Function to interpret the flag field\n",
    "def interpret_flag(flag):\n",
    "    interpretations = []\n",
    "    if flag & 0x1:\n",
    "        interpretations.append(\"The read is paired in sequencing\")\n",
    "    if flag & 0x2:\n",
    "        interpretations.append(\"The read is mapped in a proper pair\")\n",
    "    if flag & 0x4:\n",
    "        interpretations.append(\"The read itself is unmapped; segment unmapped\")\n",
    "    if flag & 0x8:\n",
    "        interpretations.append(\"The mate is unmapped\")\n",
    "    if flag & 0x10:\n",
    "        interpretations.append(\"The read is mapped to the reverse strand\")\n",
    "    if flag & 0x20:\n",
    "        interpretations.append(\"The mate is mapped to the reverse strand\")\n",
    "    if flag & 0x40:\n",
    "        interpretations.append(\"This is the first read in a pair\")\n",
    "    if flag & 0x80:\n",
    "        interpretations.append(\"This is the second read in a pair\")\n",
    "    if flag & 0x100:\n",
    "        interpretations.append(\"Not primary alignment\")\n",
    "    if flag & 0x200:\n",
    "        interpretations.append(\"Read fails platform/vendor quality checks\")\n",
    "    if flag & 0x400:\n",
    "        interpretations.append(\"Read is PCR or optical duplicate\")\n",
    "    if flag & 0x800:\n",
    "        interpretations.append(\"Supplementary alignment\")\n",
    "    \n",
    "    return interpretations\n"
   ]
  },
  {
   "cell_type": "code",
   "execution_count": 3,
   "metadata": {},
   "outputs": [
    {
     "name": "stdout",
     "output_type": "stream",
     "text": [
      "Query Name: C0HVYACXX120402:7:1207:5722:57044\n",
      "Flag: 1187 - ['The read is paired in sequencing', 'The read is mapped in a proper pair', 'The mate is mapped to the reverse strand', 'This is the second read in a pair', 'Read is PCR or optical duplicate']\n",
      "Reference Name: 21\n",
      "Reference Start: 9483248\n",
      "Mapping Quality: 27\n",
      "CIGAR string: 76M\n",
      "Next Reference Name: 21\n",
      "Next Reference Start: 9483381\n",
      "Template Length: 209\n",
      "Query Sequence: TTTTCAAACAGTATCTATGCCTGCCAAATGTGAACATATAAAAAAAAACCAGAATGTGCCATTCTGATTTAAACTG\n",
      "Query Qualities: array('B', [28, 28, 27, 29, 31, 30, 31, 31, 29, 31, 35, 30, 29, 31, 34, 30, 29, 23, 41, 32, 20, 30, 29, 34, 34, 29, 30, 31, 30, 30, 30, 33, 33, 26, 39, 12, 25, 19, 32, 30, 35, 28, 35, 33, 23, 33, 35, 36, 30, 38, 33, 41, 34, 35, 31, 33, 23, 30, 30, 36, 27, 32, 29, 34, 35, 41, 33, 31, 33, 29, 32, 32, 31, 31, 31, 34])\n",
      "Tags: [('XA', 'GL000217.1,-110754,76M,1;'), ('BD', 'NNNNNNNNNNNNNNNNNNNNNNNNNNNNNNNNNNNNNNNNNNNNNNNNNNNNNNNNNNNNNNNNNNNNNNNNNNNN'), ('MD', '76'), ('RG', '1'), ('BI', 'NNNNNNNNNNNNNNNNNNNNNNNNNNNNNNNNNNNNNNNNNNNNNNNNNNNNNNNNNNNNNNNNNNNNNNNNNNNN'), ('NM', 0), ('MQ', 27), ('AS', 76), ('XS', 71)]\n"
     ]
    }
   ],
   "source": [
    "# Inspect fields in the AlignedSegment\n",
    "print(f\"Query Name: {first_read.query_name}\")\n",
    "print(f\"Flag: {first_read.flag} - {interpret_flag(first_read.flag)}\")\n",
    "print(f\"Reference Name: {alignment_file.get_reference_name(first_read.reference_id)}\")\n",
    "print(f\"Reference Start: {first_read.reference_start}\")\n",
    "print(f\"Mapping Quality: {first_read.mapping_quality}\")\n",
    "print(f\"CIGAR string: {first_read.cigarstring}\")\n",
    "print(f\"Next Reference Name: {alignment_file.get_reference_name(first_read.next_reference_id)}\")\n",
    "print(f\"Next Reference Start: {first_read.next_reference_start}\")\n",
    "print(f\"Template Length: {first_read.template_length}\")\n",
    "print(f\"Query Sequence: {first_read.query_sequence}\")\n",
    "print(f\"Query Qualities: {first_read.query_qualities}\")\n",
    "print(f\"Tags: {first_read.tags}\")\n"
   ]
  },
  {
   "cell_type": "code",
   "execution_count": 4,
   "metadata": {},
   "outputs": [
    {
     "name": "stdout",
     "output_type": "stream",
     "text": [
      "Read Name: D0RE2ACXX120401:1:2105:2631:113383, Flag: 163 - ['The read is paired in sequencing', 'The read is mapped in a proper pair', 'The mate is mapped to the reverse strand', 'This is the second read in a pair']\n",
      "Read Name: C0HVYACXX120402:5:1304:16767:148118, Flag: 99 - ['The read is paired in sequencing', 'The read is mapped in a proper pair', 'The mate is mapped to the reverse strand', 'This is the first read in a pair']\n",
      "Read Name: C0HVYACXX120402:8:1101:6314:155036, Flag: 99 - ['The read is paired in sequencing', 'The read is mapped in a proper pair', 'The mate is mapped to the reverse strand', 'This is the first read in a pair']\n",
      "Read Name: D0RE2ACXX120401:4:2106:2222:188475, Flag: 99 - ['The read is paired in sequencing', 'The read is mapped in a proper pair', 'The mate is mapped to the reverse strand', 'This is the first read in a pair']\n",
      "Read Name: C0HVYACXX120402:7:2104:3109:85401, Flag: 163 - ['The read is paired in sequencing', 'The read is mapped in a proper pair', 'The mate is mapped to the reverse strand', 'This is the second read in a pair']\n",
      "Read Name: C0HVYACXX120402:3:1307:14105:43830, Flag: 99 - ['The read is paired in sequencing', 'The read is mapped in a proper pair', 'The mate is mapped to the reverse strand', 'This is the first read in a pair']\n",
      "Read Name: D0RH0ACXX120402:2:2211:20196:13130, Flag: 1123 - ['The read is paired in sequencing', 'The read is mapped in a proper pair', 'The mate is mapped to the reverse strand', 'This is the first read in a pair', 'Read is PCR or optical duplicate']\n",
      "Read Name: D0RE2ACXX120401:1:1201:14782:65302, Flag: 99 - ['The read is paired in sequencing', 'The read is mapped in a proper pair', 'The mate is mapped to the reverse strand', 'This is the first read in a pair']\n",
      "Read Name: D0RE2ACXX120401:7:1304:12042:51117, Flag: 1123 - ['The read is paired in sequencing', 'The read is mapped in a proper pair', 'The mate is mapped to the reverse strand', 'This is the first read in a pair', 'Read is PCR or optical duplicate']\n",
      "Read Name: C0HVYACXX120402:1:2302:4890:173364, Flag: 99 - ['The read is paired in sequencing', 'The read is mapped in a proper pair', 'The mate is mapped to the reverse strand', 'This is the first read in a pair']\n"
     ]
    }
   ],
   "source": [
    "# Check flags for the next 10 reads\n",
    "for _ in range(10):\n",
    "    read = next(alignment_file)\n",
    "    print(f\"Read Name: {read.query_name}, Flag: {read.flag} - {interpret_flag(read.flag)}\")\n"
   ]
  },
  {
   "cell_type": "code",
   "execution_count": 5,
   "metadata": {},
   "outputs": [
    {
     "name": "stdout",
     "output_type": "stream",
     "text": [
      "Total number of reads: 2921629\n",
      "Number of unmapped reads: 17765\n",
      "Number of reads with mapping quality 0: 126628\n",
      "Average mapping quality for all reads: 55.91\n",
      "Average mapping quality if reads with 0 map quality are filtered out: 58.45\n"
     ]
    }
   ],
   "source": [
    "#Calculations\n",
    "total_reads = 0\n",
    "unmapped_reads = 0\n",
    "reads_with_mapq_zero = 0\n",
    "total_mapq = 0\n",
    "total_mapq_non_zero = 0\n",
    "reads_with_non_zero_mapq = 0\n",
    "\n",
    "#Reset pointer\n",
    "alignment_file.reset()\n",
    "\n",
    "for read in alignment_file:\n",
    "    total_reads += 1\n",
    "    if read.is_unmapped:\n",
    "        unmapped_reads += 1\n",
    "    if read.mapping_quality == 0:\n",
    "        reads_with_mapq_zero += 1\n",
    "    else:\n",
    "        total_mapq_non_zero += read.mapping_quality\n",
    "        reads_with_non_zero_mapq += 1\n",
    "    total_mapq += read.mapping_quality\n",
    "\n",
    "average_mapq = total_mapq / total_reads\n",
    "average_mapq_non_zero = (total_mapq_non_zero / reads_with_non_zero_mapq)\n",
    "\n",
    "print(f\"Total number of reads: {total_reads}\")\n",
    "print(f\"Number of unmapped reads: {unmapped_reads}\")\n",
    "print(f\"Number of reads with mapping quality 0: {reads_with_mapq_zero}\")\n",
    "print(f\"Average mapping quality for all reads: {average_mapq:.2f}\")\n",
    "print(f\"Average mapping quality if reads with 0 map quality are filtered out: {average_mapq_non_zero:.2f}\")\n",
    "\n",
    "# Close the BAM file\n",
    "alignment_file.close()\n"
   ]
  }
 ],
 "metadata": {
  "kernelspec": {
   "display_name": ".venv",
   "language": "python",
   "name": "python3"
  },
  "language_info": {
   "codemirror_mode": {
    "name": "ipython",
    "version": 3
   },
   "file_extension": ".py",
   "mimetype": "text/x-python",
   "name": "python",
   "nbconvert_exporter": "python",
   "pygments_lexer": "ipython3",
   "version": "3.11.5"
  }
 },
 "nbformat": 4,
 "nbformat_minor": 2
}
